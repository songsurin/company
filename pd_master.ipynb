{
  "nbformat": 4,
  "nbformat_minor": 0,
  "metadata": {
    "colab": {
      "provenance": [],
      "collapsed_sections": [
        "t-Iw_5ryyp_u"
      ]
    },
    "kernelspec": {
      "name": "python3",
      "display_name": "Python 3"
    },
    "language_info": {
      "name": "python"
    }
  },
  "cells": [
    {
      "cell_type": "code",
      "execution_count": null,
      "metadata": {
        "id": "1YK__d1Heh3g"
      },
      "outputs": [],
      "source": [
        "import seaborn as sns\n",
        "import pandas as pd"
      ]
    },
    {
      "cell_type": "markdown",
      "source": [
        "# Iris"
      ],
      "metadata": {
        "id": "mhyD0mfdyMx2"
      }
    },
    {
      "cell_type": "code",
      "source": [
        "iris = sns.load_dataset('iris')"
      ],
      "metadata": {
        "id": "zkqZL-o6zNPF"
      },
      "execution_count": null,
      "outputs": []
    },
    {
      "cell_type": "markdown",
      "source": [
        "## a\n",
        "붓꽃 종(species)별로 꽃잎길이(sepal_length), 꽃잎폭(sepal_width),\n",
        "꽃받침길이(petal_length), 꽃받침폭(petal_width)의 평균, 표준편차 등\n",
        "기초통계량(describe())을 구하시오."
      ],
      "metadata": {
        "id": "t-Iw_5ryyp_u"
      }
    },
    {
      "cell_type": "code",
      "source": [],
      "metadata": {
        "id": "jFxLCzmlQOTf"
      },
      "execution_count": null,
      "outputs": []
    },
    {
      "cell_type": "markdown",
      "source": [
        "## b\n",
        "3분위수(Q3)와 1분위수(Q1)의 차이보다 1.5배가 크거나 작은 데이터는 이상치이다.\n",
        "즉,\n",
        "* Q1 - 1.5 * (Q3 - Q1) 보다 작은 데이터\n",
        "* Q3 + 1.5 * (Q3 - Q1) 보다 큰 데이터\n",
        "\n",
        "이 이상치를 제거하고 위의 4가지 항목에 대해서 평균, 표준편차를 구하시오."
      ],
      "metadata": {
        "id": "fYreZPGzyp1m"
      }
    },
    {
      "cell_type": "code",
      "source": [],
      "metadata": {
        "id": "6sxB-jy1QOrH"
      },
      "execution_count": null,
      "outputs": []
    },
    {
      "cell_type": "markdown",
      "source": [
        "# Titanic\n"
      ],
      "metadata": {
        "id": "yhxvmWk_d-cK"
      }
    },
    {
      "cell_type": "code",
      "execution_count": null,
      "metadata": {
        "id": "D10KwMJCdmJZ"
      },
      "outputs": [],
      "source": [
        "titanic = sns.load_dataset('titanic')"
      ]
    },
    {
      "cell_type": "markdown",
      "source": [
        "## a\n",
        "타이타닉호의 승객에 대해 나이와 성별에 의한 카테고리 열인 category1 열을 만드시오. \n",
        "category1 카테고리는 다음과 같이 정의됨\n",
        "\n",
        "1) 20살이 넘으면 성별을 그대로 사용한다.\n",
        "2) 20살 미만이면 성별에 관계없이 “child”라고 한다.\n"
      ],
      "metadata": {
        "id": "8S0glmYufZ7y"
      }
    },
    {
      "cell_type": "code",
      "source": [],
      "metadata": {
        "id": "_kW-pymjQQu-"
      },
      "execution_count": null,
      "outputs": []
    },
    {
      "cell_type": "markdown",
      "source": [
        "## b\n",
        " 타이타닉호의 승객 중 나이를 명시하지 않은 고객은 나이를 명시한 고객의 평균 나이 값\n",
        "이 되도록 titanic 데이터프레임을 고치시오.\n"
      ],
      "metadata": {
        "id": "E4IJErlOfbJJ"
      }
    },
    {
      "cell_type": "code",
      "source": [],
      "metadata": {
        "id": "wxdjsyXMQQ-_"
      },
      "execution_count": null,
      "outputs": []
    },
    {
      "cell_type": "markdown",
      "source": [
        "## c\n",
        "성별, 선실(class)별, 출발지(embark_town)별 생존율을 구하시오."
      ],
      "metadata": {
        "id": "Bdhymr2lfcdp"
      }
    },
    {
      "cell_type": "code",
      "source": [],
      "metadata": {
        "id": "AtSlQuv3QRYW"
      },
      "execution_count": null,
      "outputs": []
    },
    {
      "cell_type": "markdown",
      "source": [
        "## d\n",
        "타이타닉호 승객을 ‘미성년자’, ‘청년’, ‘중년’, ‘장년’, ‘노년’ 나이 그룹으로 나누고, 각 그룹별 생존율을 구하시오.\n",
        "* bins = [1, 20, 30, 50, 70, 100]\n",
        "* labels = [\"미성년자\", \"청년\", \"중년\", \"장년\", \"노년\"]\n"
      ],
      "metadata": {
        "id": "MNPLHJK4fdZR"
      }
    },
    {
      "cell_type": "code",
      "source": [],
      "metadata": {
        "id": "t0GZAxuCQRqm"
      },
      "execution_count": null,
      "outputs": []
    },
    {
      "cell_type": "markdown",
      "source": [
        "## e\n",
        "qcut 명령으로 세 개의 나이 그룹을 만들고, 나이 그룹별 남녀 성비와 생존율을 구하시오."
      ],
      "metadata": {
        "id": "_q1TqG7WffLJ"
      }
    },
    {
      "cell_type": "code",
      "source": [],
      "metadata": {
        "id": "B43J4bH4QR7W"
      },
      "execution_count": null,
      "outputs": []
    },
    {
      "cell_type": "markdown",
      "source": [
        "# mpg"
      ],
      "metadata": {
        "id": "sqquw-WlEsoy"
      }
    },
    {
      "cell_type": "code",
      "source": [
        "mpg=sns.load_dataset('mpg')"
      ],
      "metadata": {
        "id": "O-fgB_-Xe3VM"
      },
      "execution_count": null,
      "outputs": []
    },
    {
      "cell_type": "markdown",
      "source": [
        "## a"
      ],
      "metadata": {
        "id": "XkvA19KsQui4"
      }
    },
    {
      "cell_type": "code",
      "source": [],
      "metadata": {
        "id": "b3M1ZfFTQzl4"
      },
      "execution_count": null,
      "outputs": []
    },
    {
      "cell_type": "markdown",
      "source": [
        "## b"
      ],
      "metadata": {
        "id": "waPi8NBGQufv"
      }
    },
    {
      "cell_type": "code",
      "source": [],
      "metadata": {
        "id": "vCytPPW5Qz7H"
      },
      "execution_count": null,
      "outputs": []
    },
    {
      "cell_type": "markdown",
      "source": [
        "## c"
      ],
      "metadata": {
        "id": "n0oUa922Quc3"
      }
    },
    {
      "cell_type": "code",
      "source": [],
      "metadata": {
        "id": "Yvk11CxZQ0fX"
      },
      "execution_count": null,
      "outputs": []
    },
    {
      "cell_type": "markdown",
      "source": [
        "## d"
      ],
      "metadata": {
        "id": "Cey3ljZYQuYw"
      }
    },
    {
      "cell_type": "code",
      "source": [],
      "metadata": {
        "id": "iMcRZwWGQ02_"
      },
      "execution_count": null,
      "outputs": []
    },
    {
      "cell_type": "markdown",
      "source": [
        "## e\n"
      ],
      "metadata": {
        "id": "2jkBKSNAQuSP"
      }
    },
    {
      "cell_type": "code",
      "source": [],
      "metadata": {
        "id": "ZjeWEo5IQy1H"
      },
      "execution_count": null,
      "outputs": []
    }
  ]
}